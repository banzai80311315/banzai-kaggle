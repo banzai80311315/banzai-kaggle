{
 "cells": [
  {
   "cell_type": "markdown",
   "id": "f58ee2e3-436a-44d0-8d32-0fcd34f55ed6",
   "metadata": {},
   "source": [
    "# 01: 基本セットアップ"
   ]
  },
  {
   "cell_type": "code",
   "execution_count": 6,
   "id": "f0b39212-bfbc-4089-9594-23b72b1daf62",
   "metadata": {},
   "outputs": [],
   "source": [
    "import pandas as pd\n",
    "import numpy as np\n",
    "import matplotlib.pyplot as plt\n",
    "from pathlib import Path"
   ]
  },
  {
   "cell_type": "code",
   "execution_count": 7,
   "id": "b83e530a-d668-4f16-be00-efcfe1be83b5",
   "metadata": {},
   "outputs": [
    {
     "name": "stdout",
     "output_type": "stream",
     "text": [
      "データフォルダ: C:\\Users\\h20s1\\workspace\\banzai-kaggle\\power-forecast\\data\n"
     ]
    }
   ],
   "source": [
    "plt.rcParams[\"figure.figsize\"] = (10, 4)\n",
    "plt.rcParams[\"font.size\"] = 12\n",
    "\n",
    "# データフォルダの指定\n",
    "DATA_DIR = Path(\"../data\")\n",
    "DATA_DIR.mkdir(exist_ok=True)\n",
    "\n",
    "print(\"データフォルダ:\", DATA_DIR.resolve())"
   ]
  },
  {
   "cell_type": "code",
   "execution_count": 10,
   "id": "933e4fd3-1f91-45e1-a98f-a23d8a1205f9",
   "metadata": {},
   "outputs": [
    {
     "data": {
      "text/plain": [
       "[WindowsPath('../data/raw/AEP_hourly.csv'),\n",
       " WindowsPath('../data/raw/COMED_hourly.csv'),\n",
       " WindowsPath('../data/raw/DAYTON_hourly.csv'),\n",
       " WindowsPath('../data/raw/DEOK_hourly.csv'),\n",
       " WindowsPath('../data/raw/DOM_hourly.csv'),\n",
       " WindowsPath('../data/raw/DUQ_hourly.csv'),\n",
       " WindowsPath('../data/raw/EKPC_hourly.csv'),\n",
       " WindowsPath('../data/raw/FE_hourly.csv'),\n",
       " WindowsPath('../data/raw/NI_hourly.csv'),\n",
       " WindowsPath('../data/raw/PJME_hourly.csv'),\n",
       " WindowsPath('../data/raw/PJMW_hourly.csv'),\n",
       " WindowsPath('../data/raw/pjm_hourly_est.csv'),\n",
       " WindowsPath('../data/raw/PJM_Load_hourly.csv')]"
      ]
     },
     "execution_count": 10,
     "metadata": {},
     "output_type": "execute_result"
    }
   ],
   "source": [
    "from pathlib import Path\n",
    "import pandas as pd\n",
    "\n",
    "DATA_DIR = Path(\"../data/raw\")\n",
    "list(DATA_DIR.glob(\"*.csv\"))\n"
   ]
  },
  {
   "cell_type": "code",
   "execution_count": 12,
   "id": "f6aae19e-a103-44a3-aa8f-158bff7eb9de",
   "metadata": {},
   "outputs": [
    {
     "data": {
      "text/plain": [
       "[WindowsPath('../data/raw/AEP_hourly.csv'),\n",
       " WindowsPath('../data/raw/COMED_hourly.csv'),\n",
       " WindowsPath('../data/raw/DAYTON_hourly.csv'),\n",
       " WindowsPath('../data/raw/DEOK_hourly.csv'),\n",
       " WindowsPath('../data/raw/DOM_hourly.csv'),\n",
       " WindowsPath('../data/raw/DUQ_hourly.csv'),\n",
       " WindowsPath('../data/raw/EKPC_hourly.csv'),\n",
       " WindowsPath('../data/raw/FE_hourly.csv'),\n",
       " WindowsPath('../data/raw/NI_hourly.csv'),\n",
       " WindowsPath('../data/raw/PJME_hourly.csv'),\n",
       " WindowsPath('../data/raw/PJMW_hourly.csv'),\n",
       " WindowsPath('../data/raw/pjm_hourly_est.csv'),\n",
       " WindowsPath('../data/raw/PJM_Load_hourly.csv')]"
      ]
     },
     "execution_count": 12,
     "metadata": {},
     "output_type": "execute_result"
    }
   ],
   "source": [
    "list((Path(\"../data/raw\")).glob(\"*.csv\"))"
   ]
  },
  {
   "cell_type": "code",
   "execution_count": null,
   "id": "0e159b38-f606-43f0-9be5-5b5e97d8db01",
   "metadata": {},
   "outputs": [],
   "source": []
  }
 ],
 "metadata": {
  "kernelspec": {
   "display_name": "Python 3 (ipykernel)",
   "language": "python",
   "name": "python3"
  },
  "language_info": {
   "codemirror_mode": {
    "name": "ipython",
    "version": 3
   },
   "file_extension": ".py",
   "mimetype": "text/x-python",
   "name": "python",
   "nbconvert_exporter": "python",
   "pygments_lexer": "ipython3",
   "version": "3.11.9"
  }
 },
 "nbformat": 4,
 "nbformat_minor": 5
}
